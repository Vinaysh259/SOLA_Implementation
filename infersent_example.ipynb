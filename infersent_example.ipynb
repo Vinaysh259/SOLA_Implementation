{
  "nbformat": 4,
  "nbformat_minor": 0,
  "metadata": {
    "colab": {
      "name": "Untitled6.ipynb",
      "version": "0.3.2",
      "provenance": [],
      "include_colab_link": true
    },
    "kernelspec": {
      "name": "python3",
      "display_name": "Python 3"
    },
    "accelerator": "GPU"
  },
  "cells": [
    {
      "cell_type": "markdown",
      "metadata": {
        "id": "view-in-github",
        "colab_type": "text"
      },
      "source": [
        "<a href=\"https://colab.research.google.com/github/Vinaysh259/SOLA_Implementation/blob/master/infersent_example.ipynb\" target=\"_parent\"><img src=\"https://colab.research.google.com/assets/colab-badge.svg\" alt=\"Open In Colab\"/></a>"
      ]
    },
    {
      "metadata": {
        "id": "UhqWqeK7VsRQ",
        "colab_type": "code",
        "outputId": "38db68bd-5048-4db7-acef-48c5119c3162",
        "colab": {
          "base_uri": "https://localhost:8080/",
          "height": 135
        }
      },
      "cell_type": "code",
      "source": [
        "./get_data.bash"
      ],
      "execution_count": 0,
      "outputs": [
        {
          "output_type": "error",
          "ename": "SyntaxError",
          "evalue": "ignored",
          "traceback": [
            "\u001b[0;36m  File \u001b[0;32m\"<ipython-input-1-c18860b5ab51>\"\u001b[0;36m, line \u001b[0;32m1\u001b[0m\n\u001b[0;31m    ./get_data.bash\u001b[0m\n\u001b[0m    ^\u001b[0m\n\u001b[0;31mSyntaxError\u001b[0m\u001b[0;31m:\u001b[0m invalid syntax\n"
          ]
        }
      ]
    },
    {
      "metadata": {
        "id": "2R-OjmG7WdfG",
        "colab_type": "code",
        "outputId": "999f08a8-c51a-47f0-e96d-d6ac547b3b79",
        "colab": {
          "base_uri": "https://localhost:8080/",
          "height": 145
        }
      },
      "cell_type": "code",
      "source": [
        "!git clone https://github.com/facebookresearch/InferSent.git\n",
        "  "
      ],
      "execution_count": 0,
      "outputs": [
        {
          "output_type": "stream",
          "text": [
            "Cloning into 'InferSent'...\n",
            "remote: Enumerating objects: 13, done.\u001b[K\n",
            "remote: Counting objects: 100% (13/13), done.\u001b[K\n",
            "remote: Compressing objects: 100% (12/12), done.\u001b[K\n",
            "remote: Total 235 (delta 4), reused 5 (delta 1), pack-reused 222\u001b[K\n",
            "Receiving objects: 100% (235/235), 444.30 KiB | 815.00 KiB/s, done.\n",
            "Resolving deltas: 100% (116/116), done.\n"
          ],
          "name": "stdout"
        }
      ]
    },
    {
      "metadata": {
        "id": "OikpIZxeXNGy",
        "colab_type": "code",
        "outputId": "70685a6b-6797-4d16-8763-a2914509a354",
        "colab": {
          "base_uri": "https://localhost:8080/",
          "height": 135
        }
      },
      "cell_type": "code",
      "source": [
        "./get_data.bash"
      ],
      "execution_count": 0,
      "outputs": [
        {
          "output_type": "error",
          "ename": "SyntaxError",
          "evalue": "ignored",
          "traceback": [
            "\u001b[0;36m  File \u001b[0;32m\"<ipython-input-4-c18860b5ab51>\"\u001b[0;36m, line \u001b[0;32m1\u001b[0m\n\u001b[0;31m    ./get_data.bash\u001b[0m\n\u001b[0m    ^\u001b[0m\n\u001b[0;31mSyntaxError\u001b[0m\u001b[0;31m:\u001b[0m invalid syntax\n"
          ]
        }
      ]
    },
    {
      "metadata": {
        "id": "_RYvVR49X07U",
        "colab_type": "code",
        "outputId": "4c8097b1-a3f4-4fa5-e3e3-b002eec50939",
        "colab": {
          "base_uri": "https://localhost:8080/",
          "height": 135
        }
      },
      "cell_type": "code",
      "source": [
        "./get_data.bash"
      ],
      "execution_count": 0,
      "outputs": [
        {
          "output_type": "error",
          "ename": "SyntaxError",
          "evalue": "ignored",
          "traceback": [
            "\u001b[0;36m  File \u001b[0;32m\"<ipython-input-9-c18860b5ab51>\"\u001b[0;36m, line \u001b[0;32m1\u001b[0m\n\u001b[0;31m    ./get_data.bash\u001b[0m\n\u001b[0m    ^\u001b[0m\n\u001b[0;31mSyntaxError\u001b[0m\u001b[0;31m:\u001b[0m invalid syntax\n"
          ]
        }
      ]
    },
    {
      "metadata": {
        "id": "xllY4O2UYFyV",
        "colab_type": "code",
        "outputId": "b54a4566-8f57-44a2-ab2c-0d40a5c6a793",
        "colab": {
          "base_uri": "https://localhost:8080/",
          "height": 35
        }
      },
      "cell_type": "code",
      "source": [
        "!pwd"
      ],
      "execution_count": 0,
      "outputs": [
        {
          "output_type": "stream",
          "text": [
            "/content\n"
          ],
          "name": "stdout"
        }
      ]
    },
    {
      "metadata": {
        "id": "A4LAhzpmYxDc",
        "colab_type": "code",
        "outputId": "0b381d51-4129-4b79-f252-92cb885c9ced",
        "colab": {
          "base_uri": "https://localhost:8080/",
          "height": 35
        }
      },
      "cell_type": "code",
      "source": [
        "%cd InferSent"
      ],
      "execution_count": 0,
      "outputs": [
        {
          "output_type": "stream",
          "text": [
            "/content/InferSent\n"
          ],
          "name": "stdout"
        }
      ]
    },
    {
      "metadata": {
        "id": "dN-2MnIvY2jX",
        "colab_type": "code",
        "outputId": "bbace7fe-3422-4642-8160-b9707b885ae2",
        "colab": {
          "base_uri": "https://localhost:8080/",
          "height": 35
        }
      },
      "cell_type": "code",
      "source": [
        "!pwd"
      ],
      "execution_count": 0,
      "outputs": [
        {
          "output_type": "stream",
          "text": [
            "/content/InferSent\n"
          ],
          "name": "stdout"
        }
      ]
    },
    {
      "metadata": {
        "id": "BxH3slbjZFEs",
        "colab_type": "code",
        "outputId": "4277fbed-ff12-40ac-d8f0-04f3c147c648",
        "colab": {
          "base_uri": "https://localhost:8080/",
          "height": 35
        }
      },
      "cell_type": "code",
      "source": [
        "%cd dataset"
      ],
      "execution_count": 0,
      "outputs": [
        {
          "output_type": "stream",
          "text": [
            "/content/InferSent/dataset\n"
          ],
          "name": "stdout"
        }
      ]
    },
    {
      "metadata": {
        "id": "lU8T6oVLZLo4",
        "colab_type": "code",
        "outputId": "4aa22f91-7b28-4109-d981-44e0e67fe0b6",
        "colab": {
          "base_uri": "https://localhost:8080/",
          "height": 763
        }
      },
      "cell_type": "code",
      "source": [
        "!./get_data.bash"
      ],
      "execution_count": 0,
      "outputs": [
        {
          "output_type": "stream",
          "text": [
            "mkdir: cannot create directory ‘SNLI’: File exists\n",
            "  % Total    % Received % Xferd  Average Speed   Time    Time     Time  Current\n",
            "                                 Dload  Upload   Total   Spent    Left  Speed\n",
            "100 90.1M  100 90.1M    0     0  11.3M      0  0:00:07  0:00:07 --:--:-- 17.1M\n",
            "Archive:  SNLI/snli_1.0.zip\n",
            "   creating: SNLI/snli_1.0/\n",
            "  inflating: SNLI/snli_1.0/.DS_Store  \n",
            "   creating: SNLI/__MACOSX/\n",
            "   creating: SNLI/__MACOSX/snli_1.0/\n",
            "  inflating: SNLI/__MACOSX/snli_1.0/._.DS_Store  \n",
            " extracting: SNLI/snli_1.0/Icon      \n",
            "  inflating: SNLI/__MACOSX/snli_1.0/._Icon  \n",
            "  inflating: SNLI/snli_1.0/README.txt  \n",
            "  inflating: SNLI/__MACOSX/snli_1.0/._README.txt  \n",
            "  inflating: SNLI/snli_1.0/snli_1.0_dev.jsonl  \n",
            "  inflating: SNLI/snli_1.0/snli_1.0_dev.txt  \n",
            "  inflating: SNLI/snli_1.0/snli_1.0_test.jsonl  \n",
            "  inflating: SNLI/snli_1.0/snli_1.0_test.txt  \n",
            "  inflating: SNLI/snli_1.0/snli_1.0_train.jsonl  \n",
            "  inflating: SNLI/snli_1.0/snli_1.0_train.txt  \n",
            "  inflating: SNLI/__MACOSX/._snli_1.0  \n",
            "mkdir: cannot create directory ‘MultiNLI’: File exists\n",
            "  % Total    % Received % Xferd  Average Speed   Time    Time     Time  Current\n",
            "                                 Dload  Upload   Total   Spent    Left  Speed\n",
            "100  216M  100  216M    0     0   341k      0  0:10:49  0:10:49 --:--:--  345k\n",
            "Archive:  MultiNLI/multinli_0.9.zip\n",
            "   creating: MultiNLI/multinli_0.9/\n",
            "  inflating: MultiNLI/multinli_0.9/.DS_Store  \n",
            "   creating: MultiNLI/__MACOSX/\n",
            "   creating: MultiNLI/__MACOSX/multinli_0.9/\n",
            "  inflating: MultiNLI/__MACOSX/multinli_0.9/._.DS_Store  \n",
            " extracting: MultiNLI/multinli_0.9/Icon  \n",
            "  inflating: MultiNLI/__MACOSX/multinli_0.9/._Icon  \n",
            "  inflating: MultiNLI/multinli_0.9/multinli_0.9_dev_matched.jsonl  \n",
            "  inflating: MultiNLI/multinli_0.9/multinli_0.9_dev_matched.txt  \n",
            "  inflating: MultiNLI/multinli_0.9/multinli_0.9_dev_mismatched.jsonl  \n",
            "  inflating: MultiNLI/multinli_0.9/multinli_0.9_dev_mismatched.txt  \n",
            "  inflating: MultiNLI/multinli_0.9/multinli_0.9_train.jsonl  \n",
            "  inflating: MultiNLI/multinli_0.9/multinli_0.9_train.txt  \n",
            "  inflating: MultiNLI/multinli_0.9/paper.pdf  \n",
            "  inflating: MultiNLI/__MACOSX/._multinli_0.9  \n"
          ],
          "name": "stdout"
        }
      ]
    },
    {
      "metadata": {
        "id": "9o1sZPZLZUUW",
        "colab_type": "code",
        "outputId": "68ad758a-32a1-4ae2-c668-49c8b73f11a4",
        "colab": {
          "base_uri": "https://localhost:8080/",
          "height": 35
        }
      },
      "cell_type": "code",
      "source": [
        "%cd ..\n"
      ],
      "execution_count": 5,
      "outputs": [
        {
          "output_type": "stream",
          "text": [
            "/content/InferSent\n"
          ],
          "name": "stdout"
        }
      ]
    },
    {
      "metadata": {
        "id": "pvZZ461hgIlL",
        "colab_type": "code",
        "colab": {}
      },
      "cell_type": "code",
      "source": [
        "%mkdir dataset/GloVe"
      ],
      "execution_count": 0,
      "outputs": []
    },
    {
      "metadata": {
        "id": "55o9ZLdwgXGo",
        "colab_type": "code",
        "outputId": "54b64815-1165-4c44-89d9-601d2ce11c6e",
        "colab": {
          "base_uri": "https://localhost:8080/",
          "height": 90
        }
      },
      "cell_type": "code",
      "source": [
        "!curl -Lo dataset/GloVe/glove.840B.300d.zip http://nlp.stanford.edu/data/glove.840B.300d.zip\n"
      ],
      "execution_count": 7,
      "outputs": [
        {
          "output_type": "stream",
          "text": [
            "  % Total    % Received % Xferd  Average Speed   Time    Time     Time  Current\n",
            "                                 Dload  Upload   Total   Spent    Left  Speed\n",
            "  0   315    0     0    0     0      0      0 --:--:-- --:--:-- --:--:--     0\n",
            "100 2075M  100 2075M    0     0  4190k      0  0:08:27  0:08:27 --:--:-- 11.8M\n"
          ],
          "name": "stdout"
        }
      ]
    },
    {
      "metadata": {
        "id": "howaos7VgfTA",
        "colab_type": "code",
        "outputId": "cbf789a9-1f3e-45ac-f849-56902a3705d9",
        "colab": {
          "base_uri": "https://localhost:8080/",
          "height": 54
        }
      },
      "cell_type": "code",
      "source": [
        "!unzip dataset/GloVe/glove.840B.300d.zip -d dataset/GloVe/"
      ],
      "execution_count": 8,
      "outputs": [
        {
          "output_type": "stream",
          "text": [
            "Archive:  dataset/GloVe/glove.840B.300d.zip\n",
            "  inflating: dataset/GloVe/glove.840B.300d.txt  \n"
          ],
          "name": "stdout"
        }
      ]
    },
    {
      "metadata": {
        "id": "eAmsnaqNjbk2",
        "colab_type": "code",
        "outputId": "ff082eae-dbba-41db-8a87-b618eced188c",
        "colab": {
          "base_uri": "https://localhost:8080/",
          "height": 35
        }
      },
      "cell_type": "code",
      "source": [
        "from random import randint\n",
        "\n",
        "import numpy as np\n",
        "import torch\n",
        "!pwd"
      ],
      "execution_count": 9,
      "outputs": [
        {
          "output_type": "stream",
          "text": [
            "/content/InferSent\n"
          ],
          "name": "stdout"
        }
      ]
    },
    {
      "metadata": {
        "id": "4-AT8H3HkUGg",
        "colab_type": "code",
        "outputId": "95896bc4-d28f-47c4-ee23-1086fd5e8d29",
        "colab": {
          "base_uri": "https://localhost:8080/",
          "height": 72
        }
      },
      "cell_type": "code",
      "source": [
        "!curl -Lo encoder/infersent1.pickle https://dl.fbaipublicfiles.com/infersent/infersent1.pkl"
      ],
      "execution_count": 10,
      "outputs": [
        {
          "output_type": "stream",
          "text": [
            "  % Total    % Received % Xferd  Average Speed   Time    Time     Time  Current\n",
            "                                 Dload  Upload   Total   Spent    Left  Speed\n",
            "100  146M  100  146M    0     0  87.8M      0  0:00:01  0:00:01 --:--:-- 87.8M\n"
          ],
          "name": "stdout"
        }
      ]
    },
    {
      "metadata": {
        "id": "gT8L_GNtkfUY",
        "colab_type": "code",
        "outputId": "b04f54b1-9939-4b9e-e722-72b6b923ec4d",
        "colab": {
          "base_uri": "https://localhost:8080/",
          "height": 35
        }
      },
      "cell_type": "code",
      "source": [
        "!pwd\n"
      ],
      "execution_count": 15,
      "outputs": [
        {
          "output_type": "stream",
          "text": [
            "/content\n"
          ],
          "name": "stdout"
        }
      ]
    },
    {
      "metadata": {
        "id": "PYD2sLd7lGK3",
        "colab_type": "code",
        "colab": {
          "base_uri": "https://localhost:8080/",
          "height": 35
        },
        "outputId": "42320faf-a85f-4b23-af7a-a2c7e85e2b26"
      },
      "cell_type": "code",
      "source": [
        "%cd .."
      ],
      "execution_count": 12,
      "outputs": [
        {
          "output_type": "stream",
          "text": [
            "/content\n"
          ],
          "name": "stdout"
        }
      ]
    },
    {
      "metadata": {
        "id": "7G9JGjX8lmzs",
        "colab_type": "code",
        "outputId": "211ef403-2b3e-48db-820b-7438ca1f45f9",
        "colab": {
          "base_uri": "https://localhost:8080/",
          "height": 72
        }
      },
      "cell_type": "code",
      "source": [
        "import nltk\n",
        "nltk.download('punkt')"
      ],
      "execution_count": 13,
      "outputs": [
        {
          "output_type": "stream",
          "text": [
            "[nltk_data] Downloading package punkt to /root/nltk_data...\n",
            "[nltk_data]   Unzipping tokenizers/punkt.zip.\n"
          ],
          "name": "stdout"
        },
        {
          "output_type": "execute_result",
          "data": {
            "text/plain": [
              "True"
            ]
          },
          "metadata": {
            "tags": []
          },
          "execution_count": 13
        }
      ]
    },
    {
      "metadata": {
        "id": "H5wCpu3Jlouc",
        "colab_type": "code",
        "outputId": "dc9c6f72-d62a-43ba-fcd9-4c9b8eef7b60",
        "colab": {
          "base_uri": "https://localhost:8080/",
          "height": 35
        }
      },
      "cell_type": "code",
      "source": [
        "%cd encoder\n",
        "\n"
      ],
      "execution_count": 20,
      "outputs": [
        {
          "output_type": "stream",
          "text": [
            "/content/InferSent/encoder\n"
          ],
          "name": "stdout"
        }
      ]
    },
    {
      "metadata": {
        "id": "RK8xce4o4nMu",
        "colab_type": "code",
        "colab": {}
      },
      "cell_type": "code",
      "source": [
        ""
      ],
      "execution_count": 0,
      "outputs": []
    },
    {
      "metadata": {
        "id": "h73Aj0oTltl5",
        "colab_type": "code",
        "outputId": "51322478-55b3-4d4c-a5a9-bce47d356edd",
        "colab": {
          "base_uri": "https://localhost:8080/",
          "height": 35
        }
      },
      "cell_type": "code",
      "source": [
        "!pwd"
      ],
      "execution_count": 21,
      "outputs": [
        {
          "output_type": "stream",
          "text": [
            "/content/InferSent/encoder\n"
          ],
          "name": "stdout"
        }
      ]
    },
    {
      "metadata": {
        "id": "kQi_C9c1lvza",
        "colab_type": "code",
        "colab": {}
      },
      "cell_type": "code",
      "source": [
        "from models import InferSent\n",
        "model_version = 1\n",
        "MODEL_PATH = \"infersent%s.pickle\" % model_version\n",
        "params_model = {'bsize': 64, 'word_emb_dim': 300, 'enc_lstm_dim': 2048,\n",
        "                'pool_type': 'max', 'dpout_model': 0.0, 'version': model_version}\n",
        "model = InferSent(params_model)\n",
        "model.load_state_dict(torch.load(MODEL_PATH))"
      ],
      "execution_count": 0,
      "outputs": []
    },
    {
      "metadata": {
        "id": "mRtbFRR6l-ao",
        "colab_type": "code",
        "colab": {}
      },
      "cell_type": "code",
      "source": [
        "use_cuda = False\n",
        "model = model.cuda() if use_cuda else model"
      ],
      "execution_count": 0,
      "outputs": []
    },
    {
      "metadata": {
        "id": "2IJHaSKvm9-6",
        "colab_type": "code",
        "outputId": "fcabdf59-878d-46b1-e047-e1b77a3b91e3",
        "colab": {
          "base_uri": "https://localhost:8080/",
          "height": 35
        }
      },
      "cell_type": "code",
      "source": [
        "%cd .."
      ],
      "execution_count": 24,
      "outputs": [
        {
          "output_type": "stream",
          "text": [
            "/content/InferSent\n"
          ],
          "name": "stdout"
        }
      ]
    },
    {
      "metadata": {
        "id": "pO_xTNTAnCZb",
        "colab_type": "code",
        "colab": {}
      },
      "cell_type": "code",
      "source": [
        "W2V_PATH = 'dataset/GloVe/glove.840B.300d.txt' if model_version == 1 else '../dataset/fastText/crawl-300d-2M.vec'\n",
        "model.set_w2v_path(W2V_PATH)"
      ],
      "execution_count": 0,
      "outputs": []
    },
    {
      "metadata": {
        "id": "Q2Llk6FrnHXs",
        "colab_type": "code",
        "outputId": "38ab9164-b491-4ab7-aa21-d3d7e279acbf",
        "colab": {
          "base_uri": "https://localhost:8080/",
          "height": 35
        }
      },
      "cell_type": "code",
      "source": [
        "model.build_vocab_k_words(K=100000)"
      ],
      "execution_count": 26,
      "outputs": [
        {
          "output_type": "stream",
          "text": [
            "Vocab size : 100000\n"
          ],
          "name": "stdout"
        }
      ]
    },
    {
      "metadata": {
        "id": "awhjvRErnKp3",
        "colab_type": "code",
        "outputId": "b1fc909d-21a4-4398-8679-a18fb98b9e02",
        "colab": {
          "base_uri": "https://localhost:8080/",
          "height": 35
        }
      },
      "cell_type": "code",
      "source": [
        "sentences = []\n",
        "with open('encoder/samples.txt') as f:\n",
        "    for line in f:\n",
        "        sentences.append(line.strip())\n",
        "print(len(sentences))"
      ],
      "execution_count": 27,
      "outputs": [
        {
          "output_type": "stream",
          "text": [
            "9815\n"
          ],
          "name": "stdout"
        }
      ]
    },
    {
      "metadata": {
        "id": "ITNnHxyTnV61",
        "colab_type": "code",
        "outputId": "c26e2e9d-c998-4888-b6bb-53e34a19f858",
        "colab": {
          "base_uri": "https://localhost:8080/",
          "height": 108
        }
      },
      "cell_type": "code",
      "source": [
        "sentences[:5]"
      ],
      "execution_count": 28,
      "outputs": [
        {
          "output_type": "execute_result",
          "data": {
            "text/plain": [
              "['Everyone really likes the newest benefits',\n",
              " 'The Government Executive articles housed on the website are not able to be searched .',\n",
              " 'I like him for the most part , but would still enjoy seeing someone beat him .',\n",
              " 'My favorite restaurants are always at least a hundred miles away from my house .',\n",
              " 'I know exactly .']"
            ]
          },
          "metadata": {
            "tags": []
          },
          "execution_count": 28
        }
      ]
    },
    {
      "metadata": {
        "id": "35RX36OQniNI",
        "colab_type": "code",
        "outputId": "b0d99169-6b82-47ac-c193-22c87a2b5aaf",
        "colab": {
          "base_uri": "https://localhost:8080/",
          "height": 72
        }
      },
      "cell_type": "code",
      "source": [
        "embeddings = model.encode(sentences, bsize=128, tokenize=False, verbose=True)\n",
        "print('nb sentences encoded : {0}'.format(len(embeddings)))"
      ],
      "execution_count": 29,
      "outputs": [
        {
          "output_type": "stream",
          "text": [
            "Nb words kept : 128201/130068 (98.6%)\n",
            "Speed : 42.3 sentences/s (cpu mode, bsize=128)\n",
            "nb sentences encoded : 9815\n"
          ],
          "name": "stdout"
        }
      ]
    },
    {
      "metadata": {
        "id": "DhkOqURqn-m-",
        "colab_type": "code",
        "outputId": "6d17e24d-7994-4085-cbd0-07401d02385b",
        "colab": {
          "base_uri": "https://localhost:8080/",
          "height": 54
        }
      },
      "cell_type": "code",
      "source": [
        "(model.encode(['the cat eats.'])[0])"
      ],
      "execution_count": 30,
      "outputs": [
        {
          "output_type": "execute_result",
          "data": {
            "text/plain": [
              "array([ 0.13108404,  0.0095878 ,  0.0045495 , ...,  0.02293485,\n",
              "       -0.03814263, -0.01252606], dtype=float32)"
            ]
          },
          "metadata": {
            "tags": []
          },
          "execution_count": 30
        }
      ]
    },
    {
      "metadata": {
        "id": "qjkrXtcFqrn4",
        "colab_type": "code",
        "colab": {}
      },
      "cell_type": "code",
      "source": [
        "def cosine(u, v):\n",
        "    return np.dot(u, v) / (np.linalg.norm(u) * np.linalg.norm(v))"
      ],
      "execution_count": 0,
      "outputs": []
    },
    {
      "metadata": {
        "id": "w141TDW1-imF",
        "colab_type": "code",
        "outputId": "9d7a683a-0b8b-444d-a8ff-fb2c27bc17c3",
        "colab": {
          "base_uri": "https://localhost:8080/",
          "height": 35
        }
      },
      "cell_type": "code",
      "source": [
        "cosine(model.encode(['the cat eats.'])[0], model.encode(['the cat drinks.'])[0])"
      ],
      "execution_count": 32,
      "outputs": [
        {
          "output_type": "execute_result",
          "data": {
            "text/plain": [
              "0.8165239"
            ]
          },
          "metadata": {
            "tags": []
          },
          "execution_count": 32
        }
      ]
    },
    {
      "metadata": {
        "id": "CINvIOTZ_BqX",
        "colab_type": "code",
        "outputId": "5a2d2835-5f6c-4b77-f6fe-66c4ed93921d",
        "colab": {
          "base_uri": "https://localhost:8080/",
          "height": 384
        }
      },
      "cell_type": "code",
      "source": [
        "sentence = \"The hotel is normal and location is not good\"\n",
        "_, _ = model.visualize(sentence)"
      ],
      "execution_count": 33,
      "outputs": [
        {
          "output_type": "display_data",
          "data": {
            "image/png": "[encoded data removed]",
            "text/plain": [
              "<Figure size 576x396 with 1 Axes>"
            ]
          },
          "metadata": {
            "tags": []
          }
        }
      ]
    },
    {
      "metadata": {
        "id": "77vVjdGm_gJB",
        "colab_type": "code",
        "outputId": "dc06a114-f354-4568-bcf6-8534d664c089",
        "colab": {
          "base_uri": "https://localhost:8080/",
          "height": 55
        }
      },
      "cell_type": "code",
      "source": [
        "import csv\n",
        "with open('encoder/train_data_binary.csv') as csvfile:\n",
        "  mpg = list(csv.DictReader(csvfile))\n",
        "\n",
        "data = []\n",
        "for d in mpg:\n",
        "  data.append(d['SEGMENTS'])\n",
        "print(data[:5])"
      ],
      "execution_count": 0,
      "outputs": [
        {
          "output_type": "stream",
          "text": [
            "['LOVED THE HAMPTON INN SEAPORT!!!!!!!!!!!!!!!!!!', 'Just returned from a 3 night stay.', 'This is a FABULOUS hotel.', 'The front desk staff, the doormen, the breakfast staff, EVERYONE is incredibly friendly and helpful and warm and welcoming.', 'The room was fabulous too.']\n"
          ],
          "name": "stdout"
        }
      ]
    },
    {
      "metadata": {
        "id": "h8TvE9c8Cysa",
        "colab_type": "code",
        "colab": {}
      },
      "cell_type": "code",
      "source": [
        "\n",
        "data=[x.lower() for x in data]     #To convert everything to lowercase\n",
        "\n",
        "import re\n",
        "data=[re.sub(\"\\d+\",\"\", x) for x in data]  # To remove numbers\n",
        "\n",
        "data=[re.sub(r'[^\\w\\s]','',x) for x in data]  #To remove punctuations\n",
        "\n",
        "data=[x.strip() for x in data]"
      ],
      "execution_count": 0,
      "outputs": []
    },
    {
      "metadata": {
        "id": "vUED-FfiEb_a",
        "colab_type": "code",
        "outputId": "c9902204-9659-4807-a3fb-259322e887af",
        "colab": {
          "base_uri": "https://localhost:8080/",
          "height": 35
        }
      },
      "cell_type": "code",
      "source": [
        "print(data[:2])"
      ],
      "execution_count": 0,
      "outputs": [
        {
          "output_type": "stream",
          "text": [
            "['loved the hampton inn seaport', 'just returned from a  night stay']\n"
          ],
          "name": "stdout"
        }
      ]
    },
    {
      "metadata": {
        "id": "ljssDHhoEvRQ",
        "colab_type": "code",
        "colab": {}
      },
      "cell_type": "code",
      "source": [
        "print(data[:2])"
      ],
      "execution_count": 0,
      "outputs": []
    },
    {
      "metadata": {
        "id": "NYLRk2XdEyuP",
        "colab_type": "code",
        "colab": {}
      },
      "cell_type": "code",
      "source": [
        ""
      ],
      "execution_count": 0,
      "outputs": []
    }
  ]
}