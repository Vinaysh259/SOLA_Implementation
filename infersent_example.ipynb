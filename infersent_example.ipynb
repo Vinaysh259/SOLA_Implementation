{
  "nbformat": 4,
  "nbformat_minor": 0,
  "metadata": {
    "colab": {
      "name": "Untitled6.ipynb",
      "version": "0.3.2",
      "provenance": [],
      "include_colab_link": true
    },
    "kernelspec": {
      "name": "python3",
      "display_name": "Python 3"
    },
    "accelerator": "GPU"
  },
  "cells": [
    {
      "cell_type": "markdown",
      "metadata": {
        "id": "view-in-github",
        "colab_type": "text"
      },
      "source": [
        "<a href=\"https://colab.research.google.com/github/Vinaysh259/SOLA_Implementation/blob/master/infersent_example.ipynb\" target=\"_parent\"><img src=\"https://colab.research.google.com/assets/colab-badge.svg\" alt=\"Open In Colab\"/></a>"
      ]
    },
    {
      "metadata": {
        "id": "UhqWqeK7VsRQ",
        "colab_type": "code",
        "outputId": "38db68bd-5048-4db7-acef-48c5119c3162",
        "colab": {
          "base_uri": "https://localhost:8080/",
          "height": 135
        }
      },
      "cell_type": "code",
      "source": [
        "./get_data.bash"
      ],
      "execution_count": 0,
      "outputs": [
        {
          "output_type": "error",
          "ename": "SyntaxError",
          "evalue": "ignored",
          "traceback": [
            "\u001b[0;36m  File \u001b[0;32m\"<ipython-input-1-c18860b5ab51>\"\u001b[0;36m, line \u001b[0;32m1\u001b[0m\n\u001b[0;31m    ./get_data.bash\u001b[0m\n\u001b[0m    ^\u001b[0m\n\u001b[0;31mSyntaxError\u001b[0m\u001b[0;31m:\u001b[0m invalid syntax\n"
          ]
        }
      ]
    },
    {
      "metadata": {
        "id": "2R-OjmG7WdfG",
        "colab_type": "code",
        "outputId": "999f08a8-c51a-47f0-e96d-d6ac547b3b79",
        "colab": {
          "base_uri": "https://localhost:8080/",
          "height": 145
        }
      },
      "cell_type": "code",
      "source": [
        "!git clone https://github.com/facebookresearch/InferSent.git\n",
        "  "
      ],
      "execution_count": 0,
      "outputs": [
        {
          "output_type": "stream",
          "text": [
            "Cloning into 'InferSent'...\n",
            "remote: Enumerating objects: 13, done.\u001b[K\n",
            "remote: Counting objects: 100% (13/13), done.\u001b[K\n",
            "remote: Compressing objects: 100% (12/12), done.\u001b[K\n",
            "remote: Total 235 (delta 4), reused 5 (delta 1), pack-reused 222\u001b[K\n",
            "Receiving objects: 100% (235/235), 444.30 KiB | 815.00 KiB/s, done.\n",
            "Resolving deltas: 100% (116/116), done.\n"
          ],
          "name": "stdout"
        }
      ]
    },
    {
      "metadata": {
        "id": "OikpIZxeXNGy",
        "colab_type": "code",
        "outputId": "70685a6b-6797-4d16-8763-a2914509a354",
        "colab": {
          "base_uri": "https://localhost:8080/",
          "height": 135
        }
      },
      "cell_type": "code",
      "source": [
        "./get_data.bash"
      ],
      "execution_count": 0,
      "outputs": [
        {
          "output_type": "error",
          "ename": "SyntaxError",
          "evalue": "ignored",
          "traceback": [
            "\u001b[0;36m  File \u001b[0;32m\"<ipython-input-4-c18860b5ab51>\"\u001b[0;36m, line \u001b[0;32m1\u001b[0m\n\u001b[0;31m    ./get_data.bash\u001b[0m\n\u001b[0m    ^\u001b[0m\n\u001b[0;31mSyntaxError\u001b[0m\u001b[0;31m:\u001b[0m invalid syntax\n"
          ]
        }
      ]
    },
    {
      "metadata": {
        "id": "_RYvVR49X07U",
        "colab_type": "code",
        "outputId": "4c8097b1-a3f4-4fa5-e3e3-b002eec50939",
        "colab": {
          "base_uri": "https://localhost:8080/",
          "height": 135
        }
      },
      "cell_type": "code",
      "source": [
        "./get_data.bash"
      ],
      "execution_count": 0,
      "outputs": [
        {
          "output_type": "error",
          "ename": "SyntaxError",
          "evalue": "ignored",
          "traceback": [
            "\u001b[0;36m  File \u001b[0;32m\"<ipython-input-9-c18860b5ab51>\"\u001b[0;36m, line \u001b[0;32m1\u001b[0m\n\u001b[0;31m    ./get_data.bash\u001b[0m\n\u001b[0m    ^\u001b[0m\n\u001b[0;31mSyntaxError\u001b[0m\u001b[0;31m:\u001b[0m invalid syntax\n"
          ]
        }
      ]
    },
    {
      "metadata": {
        "id": "xllY4O2UYFyV",
        "colab_type": "code",
        "outputId": "b54a4566-8f57-44a2-ab2c-0d40a5c6a793",
        "colab": {
          "base_uri": "https://localhost:8080/",
          "height": 35
        }
      },
      "cell_type": "code",
      "source": [
        "!pwd"
      ],
      "execution_count": 0,
      "outputs": [
        {
          "output_type": "stream",
          "text": [
            "/content\n"
          ],
          "name": "stdout"
        }
      ]
    },
    {
      "metadata": {
        "id": "A4LAhzpmYxDc",
        "colab_type": "code",
        "outputId": "0b381d51-4129-4b79-f252-92cb885c9ced",
        "colab": {
          "base_uri": "https://localhost:8080/",
          "height": 35
        }
      },
      "cell_type": "code",
      "source": [
        "%cd InferSent"
      ],
      "execution_count": 0,
      "outputs": [
        {
          "output_type": "stream",
          "text": [
            "/content/InferSent\n"
          ],
          "name": "stdout"
        }
      ]
    },
    {
      "metadata": {
        "id": "dN-2MnIvY2jX",
        "colab_type": "code",
        "outputId": "bbace7fe-3422-4642-8160-b9707b885ae2",
        "colab": {
          "base_uri": "https://localhost:8080/",
          "height": 35
        }
      },
      "cell_type": "code",
      "source": [
        "!pwd"
      ],
      "execution_count": 0,
      "outputs": [
        {
          "output_type": "stream",
          "text": [
            "/content/InferSent\n"
          ],
          "name": "stdout"
        }
      ]
    },
    {
      "metadata": {
        "id": "BxH3slbjZFEs",
        "colab_type": "code",
        "outputId": "4277fbed-ff12-40ac-d8f0-04f3c147c648",
        "colab": {
          "base_uri": "https://localhost:8080/",
          "height": 35
        }
      },
      "cell_type": "code",
      "source": [
        "%cd dataset"
      ],
      "execution_count": 0,
      "outputs": [
        {
          "output_type": "stream",
          "text": [
            "/content/InferSent/dataset\n"
          ],
          "name": "stdout"
        }
      ]
    },
    {
      "metadata": {
        "id": "lU8T6oVLZLo4",
        "colab_type": "code",
        "outputId": "4aa22f91-7b28-4109-d981-44e0e67fe0b6",
        "colab": {
          "base_uri": "https://localhost:8080/",
          "height": 763
        }
      },
      "cell_type": "code",
      "source": [
        "!./get_data.bash"
      ],
      "execution_count": 0,
      "outputs": [
        {
          "output_type": "stream",
          "text": [
            "mkdir: cannot create directory ‘SNLI’: File exists\n",
            "  % Total    % Received % Xferd  Average Speed   Time    Time     Time  Current\n",
            "                                 Dload  Upload   Total   Spent    Left  Speed\n",
            "100 90.1M  100 90.1M    0     0  11.3M      0  0:00:07  0:00:07 --:--:-- 17.1M\n",
            "Archive:  SNLI/snli_1.0.zip\n",
            "   creating: SNLI/snli_1.0/\n",
            "  inflating: SNLI/snli_1.0/.DS_Store  \n",
            "   creating: SNLI/__MACOSX/\n",
            "   creating: SNLI/__MACOSX/snli_1.0/\n",
            "  inflating: SNLI/__MACOSX/snli_1.0/._.DS_Store  \n",
            " extracting: SNLI/snli_1.0/Icon      \n",
            "  inflating: SNLI/__MACOSX/snli_1.0/._Icon  \n",
            "  inflating: SNLI/snli_1.0/README.txt  \n",
            "  inflating: SNLI/__MACOSX/snli_1.0/._README.txt  \n",
            "  inflating: SNLI/snli_1.0/snli_1.0_dev.jsonl  \n",
            "  inflating: SNLI/snli_1.0/snli_1.0_dev.txt  \n",
            "  inflating: SNLI/snli_1.0/snli_1.0_test.jsonl  \n",
            "  inflating: SNLI/snli_1.0/snli_1.0_test.txt  \n",
            "  inflating: SNLI/snli_1.0/snli_1.0_train.jsonl  \n",
            "  inflating: SNLI/snli_1.0/snli_1.0_train.txt  \n",
            "  inflating: SNLI/__MACOSX/._snli_1.0  \n",
            "mkdir: cannot create directory ‘MultiNLI’: File exists\n",
            "  % Total    % Received % Xferd  Average Speed   Time    Time     Time  Current\n",
            "                                 Dload  Upload   Total   Spent    Left  Speed\n",
            "100  216M  100  216M    0     0   341k      0  0:10:49  0:10:49 --:--:--  345k\n",
            "Archive:  MultiNLI/multinli_0.9.zip\n",
            "   creating: MultiNLI/multinli_0.9/\n",
            "  inflating: MultiNLI/multinli_0.9/.DS_Store  \n",
            "   creating: MultiNLI/__MACOSX/\n",
            "   creating: MultiNLI/__MACOSX/multinli_0.9/\n",
            "  inflating: MultiNLI/__MACOSX/multinli_0.9/._.DS_Store  \n",
            " extracting: MultiNLI/multinli_0.9/Icon  \n",
            "  inflating: MultiNLI/__MACOSX/multinli_0.9/._Icon  \n",
            "  inflating: MultiNLI/multinli_0.9/multinli_0.9_dev_matched.jsonl  \n",
            "  inflating: MultiNLI/multinli_0.9/multinli_0.9_dev_matched.txt  \n",
            "  inflating: MultiNLI/multinli_0.9/multinli_0.9_dev_mismatched.jsonl  \n",
            "  inflating: MultiNLI/multinli_0.9/multinli_0.9_dev_mismatched.txt  \n",
            "  inflating: MultiNLI/multinli_0.9/multinli_0.9_train.jsonl  \n",
            "  inflating: MultiNLI/multinli_0.9/multinli_0.9_train.txt  \n",
            "  inflating: MultiNLI/multinli_0.9/paper.pdf  \n",
            "  inflating: MultiNLI/__MACOSX/._multinli_0.9  \n"
          ],
          "name": "stdout"
        }
      ]
    },
    {
      "metadata": {
        "id": "9o1sZPZLZUUW",
        "colab_type": "code",
        "outputId": "84cf8b57-2446-48d0-9092-855577829b72",
        "colab": {
          "base_uri": "https://localhost:8080/",
          "height": 35
        }
      },
      "cell_type": "code",
      "source": [
        "%cd ..\n"
      ],
      "execution_count": 0,
      "outputs": [
        {
          "output_type": "stream",
          "text": [
            "/content/InferSent\n"
          ],
          "name": "stdout"
        }
      ]
    },
    {
      "metadata": {
        "id": "pvZZ461hgIlL",
        "colab_type": "code",
        "colab": {}
      },
      "cell_type": "code",
      "source": [
        "%mkdir dataset/GloVe"
      ],
      "execution_count": 0,
      "outputs": []
    },
    {
      "metadata": {
        "id": "55o9ZLdwgXGo",
        "colab_type": "code",
        "outputId": "bd6b73d9-3c4d-47b8-c38d-3921628d4549",
        "colab": {
          "base_uri": "https://localhost:8080/",
          "height": 90
        }
      },
      "cell_type": "code",
      "source": [
        "!curl -Lo dataset/GloVe/glove.840B.300d.zip http://nlp.stanford.edu/data/glove.840B.300d.zip\n"
      ],
      "execution_count": 0,
      "outputs": [
        {
          "output_type": "stream",
          "text": [
            "  % Total    % Received % Xferd  Average Speed   Time    Time     Time  Current\n",
            "                                 Dload  Upload   Total   Spent    Left  Speed\n",
            "  0   315    0     0    0     0      0      0 --:--:-- --:--:-- --:--:--     0\n",
            "100 2075M  100 2075M    0     0  3881k      0  0:09:07  0:09:07 --:--:-- 18.8M\n"
          ],
          "name": "stdout"
        }
      ]
    },
    {
      "metadata": {
        "id": "howaos7VgfTA",
        "colab_type": "code",
        "outputId": "c17608d8-49b3-4dcd-88c4-2eb97fd3bac1",
        "colab": {
          "base_uri": "https://localhost:8080/",
          "height": 54
        }
      },
      "cell_type": "code",
      "source": [
        "!unzip dataset/GloVe/glove.840B.300d.zip -d dataset/GloVe/"
      ],
      "execution_count": 0,
      "outputs": [
        {
          "output_type": "stream",
          "text": [
            "Archive:  dataset/GloVe/glove.840B.300d.zip\n",
            "  inflating: dataset/GloVe/glove.840B.300d.txt  \n"
          ],
          "name": "stdout"
        }
      ]
    },
    {
      "metadata": {
        "id": "eAmsnaqNjbk2",
        "colab_type": "code",
        "outputId": "f1226bbd-1256-4d92-efcb-76e5f2c603d2",
        "colab": {
          "base_uri": "https://localhost:8080/",
          "height": 35
        }
      },
      "cell_type": "code",
      "source": [
        "from random import randint\n",
        "\n",
        "import numpy as np\n",
        "import torch\n",
        "!pwd"
      ],
      "execution_count": 0,
      "outputs": [
        {
          "output_type": "stream",
          "text": [
            "/content/InferSent\n"
          ],
          "name": "stdout"
        }
      ]
    },
    {
      "metadata": {
        "id": "4-AT8H3HkUGg",
        "colab_type": "code",
        "outputId": "a998c1b4-2083-4499-dc14-4513d4b351e4",
        "colab": {
          "base_uri": "https://localhost:8080/",
          "height": 72
        }
      },
      "cell_type": "code",
      "source": [
        "!curl -Lo encoder/infersent1.pickle https://dl.fbaipublicfiles.com/infersent/infersent1.pkl"
      ],
      "execution_count": 0,
      "outputs": [
        {
          "output_type": "stream",
          "text": [
            "  % Total    % Received % Xferd  Average Speed   Time    Time     Time  Current\n",
            "                                 Dload  Upload   Total   Spent    Left  Speed\n",
            "100  146M  100  146M    0     0  9664k      0  0:00:15  0:00:15 --:--:-- 31.9M\n"
          ],
          "name": "stdout"
        }
      ]
    },
    {
      "metadata": {
        "id": "gT8L_GNtkfUY",
        "colab_type": "code",
        "outputId": "61574db7-083a-4d3b-bbdc-a3b722bf774f",
        "colab": {
          "base_uri": "https://localhost:8080/",
          "height": 35
        }
      },
      "cell_type": "code",
      "source": [
        "!pwd\n"
      ],
      "execution_count": 0,
      "outputs": [
        {
          "output_type": "stream",
          "text": [
            "/content/InferSent/encoder\n"
          ],
          "name": "stdout"
        }
      ]
    },
    {
      "metadata": {
        "id": "PYD2sLd7lGK3",
        "colab_type": "code",
        "colab": {}
      },
      "cell_type": "code",
      "source": [
        "!cd .."
      ],
      "execution_count": 0,
      "outputs": []
    },
    {
      "metadata": {
        "id": "7G9JGjX8lmzs",
        "colab_type": "code",
        "outputId": "c9c39a8b-4e79-4f55-b576-12f04bcac9b9",
        "colab": {
          "base_uri": "https://localhost:8080/",
          "height": 72
        }
      },
      "cell_type": "code",
      "source": [
        "import nltk\n",
        "nltk.download('punkt')"
      ],
      "execution_count": 0,
      "outputs": [
        {
          "output_type": "stream",
          "text": [
            "[nltk_data] Downloading package punkt to /root/nltk_data...\n",
            "[nltk_data]   Unzipping tokenizers/punkt.zip.\n"
          ],
          "name": "stdout"
        },
        {
          "output_type": "execute_result",
          "data": {
            "text/plain": [
              "True"
            ]
          },
          "metadata": {
            "tags": []
          },
          "execution_count": 37
        }
      ]
    },
    {
      "metadata": {
        "id": "H5wCpu3Jlouc",
        "colab_type": "code",
        "outputId": "bdc77b68-4dc9-4964-b788-83e92bec2b3f",
        "colab": {
          "base_uri": "https://localhost:8080/",
          "height": 54
        }
      },
      "cell_type": "code",
      "source": [
        "%cd encoder"
      ],
      "execution_count": 0,
      "outputs": [
        {
          "output_type": "stream",
          "text": [
            "[Errno 2] No such file or directory: 'encoder'\n",
            "/content/InferSent/encoder\n"
          ],
          "name": "stdout"
        }
      ]
    },
    {
      "metadata": {
        "id": "h73Aj0oTltl5",
        "colab_type": "code",
        "outputId": "df3446cc-e57f-429e-9651-8c395e6cf167",
        "colab": {
          "base_uri": "https://localhost:8080/",
          "height": 35
        }
      },
      "cell_type": "code",
      "source": [
        "!pwd"
      ],
      "execution_count": 0,
      "outputs": [
        {
          "output_type": "stream",
          "text": [
            "/content/InferSent/encoder\n"
          ],
          "name": "stdout"
        }
      ]
    },
    {
      "metadata": {
        "id": "kQi_C9c1lvza",
        "colab_type": "code",
        "colab": {}
      },
      "cell_type": "code",
      "source": [
        "from models import InferSent\n",
        "model_version = 1\n",
        "MODEL_PATH = \"infersent%s.pickle\" % model_version\n",
        "params_model = {'bsize': 64, 'word_emb_dim': 300, 'enc_lstm_dim': 2048,\n",
        "                'pool_type': 'max', 'dpout_model': 0.0, 'version': model_version}\n",
        "model = InferSent(params_model)\n",
        "model.load_state_dict(torch.load(MODEL_PATH))"
      ],
      "execution_count": 0,
      "outputs": []
    },
    {
      "metadata": {
        "id": "mRtbFRR6l-ao",
        "colab_type": "code",
        "colab": {}
      },
      "cell_type": "code",
      "source": [
        "use_cuda = False\n",
        "model = model.cuda() if use_cuda else model"
      ],
      "execution_count": 0,
      "outputs": []
    },
    {
      "metadata": {
        "id": "EI1YeoR6m0bU",
        "colab_type": "code",
        "colab": {}
      },
      "cell_type": "code",
      "source": [
        "!cd .."
      ],
      "execution_count": 0,
      "outputs": []
    },
    {
      "metadata": {
        "id": "NP14W2ntm5Za",
        "colab_type": "code",
        "outputId": "edac9c25-408e-456b-b6ca-76c9099ecbd1",
        "colab": {
          "base_uri": "https://localhost:8080/",
          "height": 35
        }
      },
      "cell_type": "code",
      "source": [
        "!pwd"
      ],
      "execution_count": 0,
      "outputs": [
        {
          "output_type": "stream",
          "text": [
            "/content/InferSent/encoder\n"
          ],
          "name": "stdout"
        }
      ]
    },
    {
      "metadata": {
        "id": "2IJHaSKvm9-6",
        "colab_type": "code",
        "outputId": "07e2deb1-77be-4cd2-91a6-5c5519ff1d14",
        "colab": {
          "base_uri": "https://localhost:8080/",
          "height": 35
        }
      },
      "cell_type": "code",
      "source": [
        "%cd .."
      ],
      "execution_count": 0,
      "outputs": [
        {
          "output_type": "stream",
          "text": [
            "/content/InferSent\n"
          ],
          "name": "stdout"
        }
      ]
    },
    {
      "metadata": {
        "id": "pO_xTNTAnCZb",
        "colab_type": "code",
        "colab": {}
      },
      "cell_type": "code",
      "source": [
        "W2V_PATH = 'dataset/GloVe/glove.840B.300d.txt' if model_version == 1 else '../dataset/fastText/crawl-300d-2M.vec'\n",
        "model.set_w2v_path(W2V_PATH)"
      ],
      "execution_count": 0,
      "outputs": []
    },
    {
      "metadata": {
        "id": "Q2Llk6FrnHXs",
        "colab_type": "code",
        "outputId": "9c01a319-43d6-4509-e02b-924867b5bdff",
        "colab": {
          "base_uri": "https://localhost:8080/",
          "height": 35
        }
      },
      "cell_type": "code",
      "source": [
        "model.build_vocab_k_words(K=100000)"
      ],
      "execution_count": 0,
      "outputs": [
        {
          "output_type": "stream",
          "text": [
            "Vocab size : 100000\n"
          ],
          "name": "stdout"
        }
      ]
    },
    {
      "metadata": {
        "id": "awhjvRErnKp3",
        "colab_type": "code",
        "outputId": "3912e2ce-bd4e-485e-f574-37020c37581b",
        "colab": {
          "base_uri": "https://localhost:8080/",
          "height": 35
        }
      },
      "cell_type": "code",
      "source": [
        "sentences = []\n",
        "with open('encoder/samples.txt') as f:\n",
        "    for line in f:\n",
        "        sentences.append(line.strip())\n",
        "print(len(sentences))"
      ],
      "execution_count": 0,
      "outputs": [
        {
          "output_type": "stream",
          "text": [
            "9815\n"
          ],
          "name": "stdout"
        }
      ]
    },
    {
      "metadata": {
        "id": "ITNnHxyTnV61",
        "colab_type": "code",
        "outputId": "69ad91f2-cac7-4b0a-b6d7-917e1029fe46",
        "colab": {
          "base_uri": "https://localhost:8080/",
          "height": 108
        }
      },
      "cell_type": "code",
      "source": [
        "sentences[:5]"
      ],
      "execution_count": 0,
      "outputs": [
        {
          "output_type": "execute_result",
          "data": {
            "text/plain": [
              "['Everyone really likes the newest benefits',\n",
              " 'The Government Executive articles housed on the website are not able to be searched .',\n",
              " 'I like him for the most part , but would still enjoy seeing someone beat him .',\n",
              " 'My favorite restaurants are always at least a hundred miles away from my house .',\n",
              " 'I know exactly .']"
            ]
          },
          "metadata": {
            "tags": []
          },
          "execution_count": 55
        }
      ]
    },
    {
      "metadata": {
        "id": "35RX36OQniNI",
        "colab_type": "code",
        "outputId": "55120b82-d80e-409d-d075-fb42258482c3",
        "colab": {
          "base_uri": "https://localhost:8080/",
          "height": 72
        }
      },
      "cell_type": "code",
      "source": [
        "embeddings = model.encode(sentences, bsize=128, tokenize=False, verbose=True)\n",
        "print('nb sentences encoded : {0}'.format(len(embeddings)))"
      ],
      "execution_count": 0,
      "outputs": [
        {
          "output_type": "stream",
          "text": [
            "Nb words kept : 128201/130068 (98.6%)\n",
            "Speed : 41.8 sentences/s (cpu mode, bsize=128)\n",
            "nb sentences encoded : 9815\n"
          ],
          "name": "stdout"
        }
      ]
    },
    {
      "metadata": {
        "id": "DhkOqURqn-m-",
        "colab_type": "code",
        "outputId": "7ac5f1d3-cb6e-4892-9f23-8f2675036fe7",
        "colab": {
          "base_uri": "https://localhost:8080/",
          "height": 54
        }
      },
      "cell_type": "code",
      "source": [
        "(model.encode(['the cat eats.'])[0])"
      ],
      "execution_count": 0,
      "outputs": [
        {
          "output_type": "execute_result",
          "data": {
            "text/plain": [
              "array([ 0.13108404,  0.0095878 ,  0.0045495 , ...,  0.02293485,\n",
              "       -0.03814263, -0.01252606], dtype=float32)"
            ]
          },
          "metadata": {
            "tags": []
          },
          "execution_count": 70
        }
      ]
    },
    {
      "metadata": {
        "id": "qjkrXtcFqrn4",
        "colab_type": "code",
        "colab": {}
      },
      "cell_type": "code",
      "source": [
        "def cosine(u, v):\n",
        "    return np.dot(u, v) / (np.linalg.norm(u) * np.linalg.norm(v))"
      ],
      "execution_count": 0,
      "outputs": []
    },
    {
      "metadata": {
        "id": "w141TDW1-imF",
        "colab_type": "code",
        "outputId": "e3554af6-cd96-43d2-ada3-4d0110e8e725",
        "colab": {
          "base_uri": "https://localhost:8080/",
          "height": 35
        }
      },
      "cell_type": "code",
      "source": [
        "cosine(model.encode(['the cat eats.'])[0], model.encode(['the cat drinks.'])[0])"
      ],
      "execution_count": 0,
      "outputs": [
        {
          "output_type": "execute_result",
          "data": {
            "text/plain": [
              "0.8165239"
            ]
          },
          "metadata": {
            "tags": []
          },
          "execution_count": 74
        }
      ]
    },
    {
      "metadata": {
        "id": "CINvIOTZ_BqX",
        "colab_type": "code",
        "outputId": "8f6d9fdc-ea1f-41ad-a2b8-491e1ca90dbd",
        "colab": {
          "base_uri": "https://localhost:8080/",
          "height": 384
        }
      },
      "cell_type": "code",
      "source": [
        "sentence = \"The hotel is normal and location is not good\"\n",
        "_, _ = model.visualize(sentence)"
      ],
      "execution_count": 0,
      "outputs": [
        {
          "output_type": "display_data",
          "data": {
            "image/png": "[encoded data removed]",
            "text/plain": [
              "<Figure size 576x396 with 1 Axes>"
            ]
          },
          "metadata": {
            "tags": []
          }
        }
      ]
    },
    {
      "metadata": {
        "id": "77vVjdGm_gJB",
        "colab_type": "code",
        "outputId": "dc06a114-f354-4568-bcf6-8534d664c089",
        "colab": {
          "base_uri": "https://localhost:8080/",
          "height": 55
        }
      },
      "cell_type": "code",
      "source": [
        "import csv\n",
        "with open('encoder/train_data_binary.csv') as csvfile:\n",
        "  mpg = list(csv.DictReader(csvfile))\n",
        "\n",
        "data = []\n",
        "for d in mpg:\n",
        "  data.append(d['SEGMENTS'])\n",
        "print(data[:5])"
      ],
      "execution_count": 0,
      "outputs": [
        {
          "output_type": "stream",
          "text": [
            "['LOVED THE HAMPTON INN SEAPORT!!!!!!!!!!!!!!!!!!', 'Just returned from a 3 night stay.', 'This is a FABULOUS hotel.', 'The front desk staff, the doormen, the breakfast staff, EVERYONE is incredibly friendly and helpful and warm and welcoming.', 'The room was fabulous too.']\n"
          ],
          "name": "stdout"
        }
      ]
    },
    {
      "metadata": {
        "id": "h8TvE9c8Cysa",
        "colab_type": "code",
        "colab": {}
      },
      "cell_type": "code",
      "source": [
        "\n",
        "data=[x.lower() for x in data]     #To convert everything to lowercase\n",
        "\n",
        "import re\n",
        "data=[re.sub(\"\\d+\",\"\", x) for x in data]  # To remove numbers\n",
        "\n",
        "data=[re.sub(r'[^\\w\\s]','',x) for x in data]  #To remove punctuations\n",
        "\n",
        "data=[x.strip() for x in data]"
      ],
      "execution_count": 0,
      "outputs": []
    },
    {
      "metadata": {
        "id": "vUED-FfiEb_a",
        "colab_type": "code",
        "outputId": "c9902204-9659-4807-a3fb-259322e887af",
        "colab": {
          "base_uri": "https://localhost:8080/",
          "height": 35
        }
      },
      "cell_type": "code",
      "source": [
        "print(data[:2])"
      ],
      "execution_count": 0,
      "outputs": [
        {
          "output_type": "stream",
          "text": [
            "['loved the hampton inn seaport', 'just returned from a  night stay']\n"
          ],
          "name": "stdout"
        }
      ]
    },
    {
      "metadata": {
        "id": "ljssDHhoEvRQ",
        "colab_type": "code",
        "colab": {}
      },
      "cell_type": "code",
      "source": [
        "print(data[:2])"
      ],
      "execution_count": 0,
      "outputs": []
    },
    {
      "metadata": {
        "id": "NYLRk2XdEyuP",
        "colab_type": "code",
        "colab": {}
      },
      "cell_type": "code",
      "source": [
        ""
      ],
      "execution_count": 0,
      "outputs": []
    }
  ]
}